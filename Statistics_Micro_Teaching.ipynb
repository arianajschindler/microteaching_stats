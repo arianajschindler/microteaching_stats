{
  "nbformat": 4,
  "nbformat_minor": 0,
  "metadata": {
    "colab": {
      "name": "Statistics Micro Teaching",
      "provenance": [],
      "collapsed_sections": [],
      "include_colab_link": true
    },
    "kernelspec": {
      "name": "python3",
      "display_name": "Python 3"
    },
    "language_info": {
      "name": "python"
    }
  },
  "cells": [
    {
      "cell_type": "markdown",
      "metadata": {
        "id": "view-in-github",
        "colab_type": "text"
      },
      "source": [
        "<a href=\"https://colab.research.google.com/github/arianajschindler/microteaching_stats/blob/main/Statistics_Micro_Teaching.ipynb\" target=\"_parent\"><img src=\"https://colab.research.google.com/assets/colab-badge.svg\" alt=\"Open In Colab\"/></a>"
      ]
    },
    {
      "cell_type": "markdown",
      "metadata": {
        "id": "4xHf0JwL6jV5"
      },
      "source": [
        "# Microteaching: Statistics for Data Science"
      ]
    },
    {
      "cell_type": "markdown",
      "metadata": {
        "id": "KS9PkkTZ9n2b"
      },
      "source": [
        "Save a copy of this colab to your drive!"
      ]
    },
    {
      "cell_type": "markdown",
      "metadata": {
        "id": "dNO_zTBg9jRi"
      },
      "source": [
        "### Main Learning Outcome\n",
        "\n",
        "*   Given a template in Google Colab, students will interact with a provided dataset to gain exposure to real application of model selection."
      ]
    },
    {
      "cell_type": "markdown",
      "metadata": {
        "id": "XP4Bpdoi7u21"
      },
      "source": [
        "# Part 1: Statistical Packages for Python"
      ]
    },
    {
      "cell_type": "markdown",
      "metadata": {
        "id": "io_Jj55e8QHz"
      },
      "source": [
        "### Learning Outcomes\n",
        "\n",
        "\n",
        "*   Students will import useful statistical packages to use for EDA and model selection. \n",
        "\n"
      ]
    },
    {
      "cell_type": "markdown",
      "metadata": {
        "id": "haPmSPS1Y5x2"
      },
      "source": [
        "There are a lot of really useful Statistical packages we can use in Python: \n",
        "\n",
        "*   **Pandas:** Data manipulation and analysis with Tables\n",
        "https://pandas.pydata.org/docs/\n",
        "\n",
        "*   **Numpy:** Built-in functions for numerical routines, operations on arrays.\n",
        "https://numpy.org/doc/\n",
        "\n",
        "*   **Statsmodels:** Exploring data, estimating statistical models, performing statistical tests.\n",
        "https://www.statsmodels.org/stable/index.html\n",
        "\n",
        "*   **SciPy:** Advanced functionality of Numpy\n",
        "https://scipy-lectures.org/\n",
        "\n",
        "*   **Matplotlib:** Plotting and Visualization library for Numpy\n",
        "https://matplotlib.org/stable/gallery/index.html#event-handling\n",
        "\n",
        "*   **Researchpy:** Produces dataframes containing relevant statistical testing information\n",
        "https://researchpy.readthedocs.io/en/latest/\n"
      ]
    },
    {
      "cell_type": "markdown",
      "metadata": {
        "id": "Dk9ee7Bu8QwR"
      },
      "source": [
        "Even though we won't utilize all of these packages in this lesson, let's take a minute to import them!"
      ]
    },
    {
      "cell_type": "code",
      "metadata": {
        "colab": {
          "base_uri": "https://localhost:8080/"
        },
        "id": "ME-op0va8QJf",
        "outputId": "72004e7c-fab9-4e82-ed3d-8230594a2b57"
      },
      "source": [
        "# importing statistical packages above\n",
        "import pandas as pd\n",
        "import numpy as np\n",
        "import statsmodels.api as sm\n",
        "from scipy import stats\n",
        "import matplotlib.pyplot as plt\n",
        "!pip install researchpy"
      ],
      "execution_count": null,
      "outputs": [
        {
          "output_type": "stream",
          "name": "stdout",
          "text": [
            "Requirement already satisfied: researchpy in /usr/local/lib/python3.7/dist-packages (0.3.2)\n",
            "Requirement already satisfied: numpy in /usr/local/lib/python3.7/dist-packages (from researchpy) (1.19.5)\n",
            "Requirement already satisfied: statsmodels in /usr/local/lib/python3.7/dist-packages (from researchpy) (0.10.2)\n",
            "Requirement already satisfied: pandas in /usr/local/lib/python3.7/dist-packages (from researchpy) (1.1.5)\n",
            "Requirement already satisfied: scipy in /usr/local/lib/python3.7/dist-packages (from researchpy) (1.4.1)\n",
            "Requirement already satisfied: patsy in /usr/local/lib/python3.7/dist-packages (from researchpy) (0.5.2)\n",
            "Requirement already satisfied: python-dateutil>=2.7.3 in /usr/local/lib/python3.7/dist-packages (from pandas->researchpy) (2.8.2)\n",
            "Requirement already satisfied: pytz>=2017.2 in /usr/local/lib/python3.7/dist-packages (from pandas->researchpy) (2018.9)\n",
            "Requirement already satisfied: six>=1.5 in /usr/local/lib/python3.7/dist-packages (from python-dateutil>=2.7.3->pandas->researchpy) (1.15.0)\n"
          ]
        }
      ]
    },
    {
      "cell_type": "markdown",
      "metadata": {
        "id": "PDYc8xXG9-ZW"
      },
      "source": [
        "# Part 2: Exploring Data and Model Selection"
      ]
    },
    {
      "cell_type": "markdown",
      "metadata": {
        "id": "VVjiulQy-POT"
      },
      "source": [
        "### Learning Outcomes\n",
        "\n",
        "*   Students will review the structural data requirements of normally distributed data in order to perform accurate analysis.\n",
        "\n",
        "*   Students will differentiate between different types of data, perform descriptive statistics, and select the appropriate models to produce meaningful results."
      ]
    },
    {
      "cell_type": "markdown",
      "metadata": {
        "id": "oDJvBrT9z-pE"
      },
      "source": [
        "## Getting the Data"
      ]
    },
    {
      "cell_type": "markdown",
      "metadata": {
        "id": "57pzIF7LbpSG"
      },
      "source": [
        "To begin our lesson, we need data to work with. We will import Pandas and our data. Press run which will prompt you to enter a code. Open the link and sign in to retrieve the code."
      ]
    },
    {
      "cell_type": "code",
      "metadata": {
        "colab": {
          "base_uri": "https://localhost:8080/"
        },
        "id": "VT_DhKYn-qJ_",
        "outputId": "3621eed7-7484-4ab6-edc6-10af4230fc49"
      },
      "source": [
        "# mount the google drive\n",
        "from google.colab import drive\n",
        "drive.mount('/gdrive', force_remount=True)"
      ],
      "execution_count": null,
      "outputs": [
        {
          "output_type": "stream",
          "name": "stdout",
          "text": [
            "Mounted at /gdrive\n"
          ]
        }
      ]
    },
    {
      "cell_type": "code",
      "metadata": {
        "colab": {
          "base_uri": "https://localhost:8080/",
          "height": 206
        },
        "id": "j1QytaTms2vf",
        "outputId": "a798fb10-6fb3-4daf-c05e-1f7e72beb15d"
      },
      "source": [
        "# type your file path here\n",
        "taylor = pd.read_csv('/gdrive/MyDrive/taylor_data.csv')\n",
        "taylor.head()"
      ],
      "execution_count": null,
      "outputs": [
        {
          "output_type": "execute_result",
          "data": {
            "text/html": [
              "<div>\n",
              "<style scoped>\n",
              "    .dataframe tbody tr th:only-of-type {\n",
              "        vertical-align: middle;\n",
              "    }\n",
              "\n",
              "    .dataframe tbody tr th {\n",
              "        vertical-align: top;\n",
              "    }\n",
              "\n",
              "    .dataframe thead th {\n",
              "        text-align: right;\n",
              "    }\n",
              "</style>\n",
              "<table border=\"1\" class=\"dataframe\">\n",
              "  <thead>\n",
              "    <tr style=\"text-align: right;\">\n",
              "      <th></th>\n",
              "      <th>Song</th>\n",
              "      <th>Album</th>\n",
              "      <th>Year</th>\n",
              "      <th>Track Number</th>\n",
              "      <th>Song Length</th>\n",
              "      <th>Word Count</th>\n",
              "      <th>Genre</th>\n",
              "      <th>Single</th>\n",
              "      <th>Label</th>\n",
              "    </tr>\n",
              "  </thead>\n",
              "  <tbody>\n",
              "    <tr>\n",
              "      <th>0</th>\n",
              "      <td>Tim McGraw</td>\n",
              "      <td>Taylor Swift</td>\n",
              "      <td>2006</td>\n",
              "      <td>1</td>\n",
              "      <td>234</td>\n",
              "      <td>368</td>\n",
              "      <td>Country</td>\n",
              "      <td>Yes</td>\n",
              "      <td>Big Machine</td>\n",
              "    </tr>\n",
              "    <tr>\n",
              "      <th>1</th>\n",
              "      <td>Picture to Burn</td>\n",
              "      <td>Taylor Swift</td>\n",
              "      <td>2006</td>\n",
              "      <td>2</td>\n",
              "      <td>175</td>\n",
              "      <td>291</td>\n",
              "      <td>Country</td>\n",
              "      <td>Yes</td>\n",
              "      <td>Big Machine</td>\n",
              "    </tr>\n",
              "    <tr>\n",
              "      <th>2</th>\n",
              "      <td>Teardrops on My Guitar</td>\n",
              "      <td>Taylor Swift</td>\n",
              "      <td>2006</td>\n",
              "      <td>3</td>\n",
              "      <td>215</td>\n",
              "      <td>288</td>\n",
              "      <td>Country</td>\n",
              "      <td>Yes</td>\n",
              "      <td>Big Machine</td>\n",
              "    </tr>\n",
              "    <tr>\n",
              "      <th>3</th>\n",
              "      <td>A Place in This World</td>\n",
              "      <td>Taylor Swift</td>\n",
              "      <td>2006</td>\n",
              "      <td>4</td>\n",
              "      <td>202</td>\n",
              "      <td>233</td>\n",
              "      <td>Country</td>\n",
              "      <td>No</td>\n",
              "      <td>Big Machine</td>\n",
              "    </tr>\n",
              "    <tr>\n",
              "      <th>4</th>\n",
              "      <td>Cold as You</td>\n",
              "      <td>Taylor Swift</td>\n",
              "      <td>2006</td>\n",
              "      <td>5</td>\n",
              "      <td>241</td>\n",
              "      <td>245</td>\n",
              "      <td>Country</td>\n",
              "      <td>No</td>\n",
              "      <td>Big Machine</td>\n",
              "    </tr>\n",
              "  </tbody>\n",
              "</table>\n",
              "</div>"
            ],
            "text/plain": [
              "                     Song         Album  Year  ...    Genre  Single        Label\n",
              "0              Tim McGraw  Taylor Swift  2006  ...  Country     Yes  Big Machine\n",
              "1         Picture to Burn  Taylor Swift  2006  ...  Country     Yes  Big Machine\n",
              "2  Teardrops on My Guitar  Taylor Swift  2006  ...  Country     Yes  Big Machine\n",
              "3   A Place in This World  Taylor Swift  2006  ...  Country      No  Big Machine\n",
              "4             Cold as You  Taylor Swift  2006  ...  Country      No  Big Machine\n",
              "\n",
              "[5 rows x 9 columns]"
            ]
          },
          "metadata": {},
          "execution_count": 34
        }
      ]
    },
    {
      "cell_type": "markdown",
      "metadata": {
        "id": "k_ne7D3dcAoD"
      },
      "source": [
        "For the sake of time, this dataset needs minimal cleaning and has no null values. We do, however, want to check the variable types and change them if needed. This will help in deciding what questions we want to ask and which statistical tests to run."
      ]
    },
    {
      "cell_type": "code",
      "metadata": {
        "id": "wXhOhEZZqZ8s",
        "colab": {
          "base_uri": "https://localhost:8080/"
        },
        "outputId": "b02e21ca-4d50-4f85-d946-22c4ec935feb"
      },
      "source": [
        "# checking the variables in our data and their types\n",
        "# it is helpful to note that Song Length is the duration of the song in seconds\n",
        "taylor.dtypes"
      ],
      "execution_count": null,
      "outputs": [
        {
          "output_type": "execute_result",
          "data": {
            "text/plain": [
              "Song            object\n",
              "Album           object\n",
              "Year             int64\n",
              "Track Number     int64\n",
              "Song Length      int64\n",
              "Word Count       int64\n",
              "Genre           object\n",
              "Single          object\n",
              "Label           object\n",
              "dtype: object"
            ]
          },
          "metadata": {},
          "execution_count": 5
        }
      ]
    },
    {
      "cell_type": "code",
      "metadata": {
        "id": "wQR4Wicvq3b2"
      },
      "source": [
        "# this block is just changing the Year and Track Number variables to categorical variables\n",
        "taylor['Year'] = taylor['Year'].astype(object)\n",
        "taylor['Track Number'] = taylor['Track Number'].astype(object)"
      ],
      "execution_count": null,
      "outputs": []
    },
    {
      "cell_type": "code",
      "metadata": {
        "id": "3cqxIjjz5O2b"
      },
      "source": [
        "# renaming variables to remove the space\n",
        "taylor['Word_Count'] = taylor['Word Count']\n",
        "taylor['Song_Length'] = taylor['Song Length']\n",
        "taylor['Track_Number'] = taylor['Track Number']\n",
        "taylor = taylor.drop(columns = ['Word Count', 'Song Length', 'Track Number'])"
      ],
      "execution_count": null,
      "outputs": []
    },
    {
      "cell_type": "markdown",
      "metadata": {
        "id": "lIQYPxo8avGh"
      },
      "source": [
        "## Descriptive Statistics\n",
        "\n",
        "*   Frequencies: Use with Categorical data\n",
        "\n",
        "*   Basic Measurements: Use with Continuous data\n",
        "\n"
      ]
    },
    {
      "cell_type": "markdown",
      "metadata": {
        "id": "DISVf2TxT8Dh"
      },
      "source": [
        "Now that our data set is clean, we can see the different types of variables in our dataset: \n",
        "\n",
        "*   Song: **Categorical**\n",
        "\n",
        "*   Album: **Categorical**\n",
        "\n",
        "*   Year: **Categorical**\n",
        "\n",
        "*   Track Number: **Categorical**\n",
        "\n",
        "*   Song Length: **Continuous**\n",
        "\n",
        "*   Word Count: **Continuous**\n",
        "\n",
        "*   Genre: **Categorical**\n",
        "\n",
        "*   Single: **Bivariate** (has two options: yes and no)\n",
        "\n",
        "*   Label: **Categorical** \n"
      ]
    },
    {
      "cell_type": "markdown",
      "metadata": {
        "id": "1YXjlqP7rmkY"
      },
      "source": [
        "Let's check how many observations are in our data. We need >30 observations for our data to be normally distributed. Then we will explore our data with descriptive statistics. In **Pandas**, we can use .describe() to return standard statistics for our data."
      ]
    },
    {
      "cell_type": "code",
      "metadata": {
        "id": "XE9SNCE4k8Dt",
        "colab": {
          "base_uri": "https://localhost:8080/"
        },
        "outputId": "b7838d94-1ca5-4955-f31f-88e903bfd220"
      },
      "source": [
        "# checking how many observations are in our dataframe\n",
        "len(taylor.index)"
      ],
      "execution_count": null,
      "outputs": [
        {
          "output_type": "execute_result",
          "data": {
            "text/plain": [
              "131"
            ]
          },
          "metadata": {},
          "execution_count": 8
        }
      ]
    },
    {
      "cell_type": "markdown",
      "metadata": {
        "id": "nZ39z30qlTcF"
      },
      "source": [
        "Now that we have confirmed our dataset has >30 observations, we can perform descriptive statistics on our continuous variables!"
      ]
    },
    {
      "cell_type": "code",
      "metadata": {
        "id": "Gqc1dU4IdRKc",
        "colab": {
          "base_uri": "https://localhost:8080/",
          "height": 294
        },
        "outputId": "d03e7c0c-951f-45bd-a739-b20be9e8eb57"
      },
      "source": [
        "# using .describe() to get quick statistics\n",
        "# can also use df['variable'].describe() to get standard statistics on a single variable\n",
        "taylor.describe()"
      ],
      "execution_count": null,
      "outputs": [
        {
          "output_type": "execute_result",
          "data": {
            "text/html": [
              "<div>\n",
              "<style scoped>\n",
              "    .dataframe tbody tr th:only-of-type {\n",
              "        vertical-align: middle;\n",
              "    }\n",
              "\n",
              "    .dataframe tbody tr th {\n",
              "        vertical-align: top;\n",
              "    }\n",
              "\n",
              "    .dataframe thead th {\n",
              "        text-align: right;\n",
              "    }\n",
              "</style>\n",
              "<table border=\"1\" class=\"dataframe\">\n",
              "  <thead>\n",
              "    <tr style=\"text-align: right;\">\n",
              "      <th></th>\n",
              "      <th>Word_Count</th>\n",
              "      <th>Song_Length</th>\n",
              "    </tr>\n",
              "  </thead>\n",
              "  <tbody>\n",
              "    <tr>\n",
              "      <th>count</th>\n",
              "      <td>131.000000</td>\n",
              "      <td>131.000000</td>\n",
              "    </tr>\n",
              "    <tr>\n",
              "      <th>mean</th>\n",
              "      <td>366.083969</td>\n",
              "      <td>236.206107</td>\n",
              "    </tr>\n",
              "    <tr>\n",
              "      <th>std</th>\n",
              "      <td>93.477931</td>\n",
              "      <td>40.171884</td>\n",
              "    </tr>\n",
              "    <tr>\n",
              "      <th>min</th>\n",
              "      <td>153.000000</td>\n",
              "      <td>150.000000</td>\n",
              "    </tr>\n",
              "    <tr>\n",
              "      <th>25%</th>\n",
              "      <td>301.000000</td>\n",
              "      <td>209.500000</td>\n",
              "    </tr>\n",
              "    <tr>\n",
              "      <th>50%</th>\n",
              "      <td>368.000000</td>\n",
              "      <td>232.000000</td>\n",
              "    </tr>\n",
              "    <tr>\n",
              "      <th>75%</th>\n",
              "      <td>418.500000</td>\n",
              "      <td>251.500000</td>\n",
              "    </tr>\n",
              "    <tr>\n",
              "      <th>max</th>\n",
              "      <td>718.000000</td>\n",
              "      <td>403.000000</td>\n",
              "    </tr>\n",
              "  </tbody>\n",
              "</table>\n",
              "</div>"
            ],
            "text/plain": [
              "       Word_Count  Song_Length\n",
              "count  131.000000   131.000000\n",
              "mean   366.083969   236.206107\n",
              "std     93.477931    40.171884\n",
              "min    153.000000   150.000000\n",
              "25%    301.000000   209.500000\n",
              "50%    368.000000   232.000000\n",
              "75%    418.500000   251.500000\n",
              "max    718.000000   403.000000"
            ]
          },
          "metadata": {},
          "execution_count": 9
        }
      ]
    },
    {
      "cell_type": "markdown",
      "metadata": {
        "id": "s6pWbfT0fHeM"
      },
      "source": [
        "We can also create groups and aggregate to return a table of a specific statistic. Say we want to know the average length and average word count of songs on each album. The code below will group all of the songs by album and then return the mean statistic for the remaining variables.\n",
        "\n",
        "Extra: Try grouping by another categorical variable(i.e. Year) and check a different statistic!"
      ]
    },
    {
      "cell_type": "code",
      "metadata": {
        "id": "IfDZjtLnf8ym",
        "colab": {
          "base_uri": "https://localhost:8080/",
          "height": 355
        },
        "outputId": "24ae0536-56a1-4a83-e358-834d645e676e"
      },
      "source": [
        "# code to group by \"Album\" and return the mean for each group for all columns\n",
        "taylor.groupby([\"Album\"]).agg(\"mean\")"
      ],
      "execution_count": null,
      "outputs": [
        {
          "output_type": "execute_result",
          "data": {
            "text/html": [
              "<div>\n",
              "<style scoped>\n",
              "    .dataframe tbody tr th:only-of-type {\n",
              "        vertical-align: middle;\n",
              "    }\n",
              "\n",
              "    .dataframe tbody tr th {\n",
              "        vertical-align: top;\n",
              "    }\n",
              "\n",
              "    .dataframe thead th {\n",
              "        text-align: right;\n",
              "    }\n",
              "</style>\n",
              "<table border=\"1\" class=\"dataframe\">\n",
              "  <thead>\n",
              "    <tr style=\"text-align: right;\">\n",
              "      <th></th>\n",
              "      <th>Word_Count</th>\n",
              "      <th>Song_Length</th>\n",
              "    </tr>\n",
              "    <tr>\n",
              "      <th>Album</th>\n",
              "      <th></th>\n",
              "      <th></th>\n",
              "    </tr>\n",
              "  </thead>\n",
              "  <tbody>\n",
              "    <tr>\n",
              "      <th>1989</th>\n",
              "      <td>449.153846</td>\n",
              "      <td>224.692308</td>\n",
              "    </tr>\n",
              "    <tr>\n",
              "      <th>Evermore</th>\n",
              "      <td>347.000000</td>\n",
              "      <td>242.533333</td>\n",
              "    </tr>\n",
              "    <tr>\n",
              "      <th>Fearless</th>\n",
              "      <td>344.692308</td>\n",
              "      <td>246.615385</td>\n",
              "    </tr>\n",
              "    <tr>\n",
              "      <th>Folklore</th>\n",
              "      <td>301.687500</td>\n",
              "      <td>238.062500</td>\n",
              "    </tr>\n",
              "    <tr>\n",
              "      <th>Lover</th>\n",
              "      <td>367.000000</td>\n",
              "      <td>206.000000</td>\n",
              "    </tr>\n",
              "    <tr>\n",
              "      <th>Red</th>\n",
              "      <td>330.500000</td>\n",
              "      <td>244.312500</td>\n",
              "    </tr>\n",
              "    <tr>\n",
              "      <th>Reputation</th>\n",
              "      <td>463.400000</td>\n",
              "      <td>222.533333</td>\n",
              "    </tr>\n",
              "    <tr>\n",
              "      <th>Speak Now</th>\n",
              "      <td>395.285714</td>\n",
              "      <td>286.857143</td>\n",
              "    </tr>\n",
              "    <tr>\n",
              "      <th>Taylor Swift</th>\n",
              "      <td>293.272727</td>\n",
              "      <td>218.000000</td>\n",
              "    </tr>\n",
              "  </tbody>\n",
              "</table>\n",
              "</div>"
            ],
            "text/plain": [
              "              Word_Count  Song_Length\n",
              "Album                                \n",
              "1989          449.153846   224.692308\n",
              "Evermore      347.000000   242.533333\n",
              "Fearless      344.692308   246.615385\n",
              "Folklore      301.687500   238.062500\n",
              "Lover         367.000000   206.000000\n",
              "Red           330.500000   244.312500\n",
              "Reputation    463.400000   222.533333\n",
              "Speak Now     395.285714   286.857143\n",
              "Taylor Swift  293.272727   218.000000"
            ]
          },
          "metadata": {},
          "execution_count": 10
        }
      ]
    },
    {
      "cell_type": "markdown",
      "metadata": {
        "id": "G97F0ksokBX2"
      },
      "source": [
        "There are a lot of visualizations we can use to get to know our data better but let's check out a boxplot to check for outliers in song length."
      ]
    },
    {
      "cell_type": "code",
      "metadata": {
        "id": "LZU1KrVvpHAe",
        "colab": {
          "base_uri": "https://localhost:8080/",
          "height": 283
        },
        "outputId": "71611aa8-bfcb-4c6a-c8cb-ee44149b2c05"
      },
      "source": [
        "# creating a boxplot for Song Length to visibly check for outliers\n",
        "taylor.boxplot(column='Song_Length')"
      ],
      "execution_count": null,
      "outputs": [
        {
          "output_type": "execute_result",
          "data": {
            "text/plain": [
              "<matplotlib.axes._subplots.AxesSubplot at 0x7fa064bb3190>"
            ]
          },
          "metadata": {},
          "execution_count": 11
        },
        {
          "output_type": "display_data",
          "data": {
            "image/png": "[encoded data removed]",
            "text/plain": [
              "<Figure size 432x288 with 1 Axes>"
            ]
          },
          "metadata": {
            "needs_background": "light"
          }
        }
      ]
    },
    {
      "cell_type": "markdown",
      "metadata": {
        "id": "Kp6siQOIiwb4"
      },
      "source": [
        "## Inferential Statistics\n",
        "*   Hypothesis testing\n",
        "\n",
        "*   Correlation\n",
        "\n",
        "*   Confidence Intervals\n",
        "\n",
        "*   Significance Tests\n",
        "\n",
        "*   Prediction"
      ]
    },
    {
      "cell_type": "markdown",
      "metadata": {
        "id": "6QiCrYlkSBfp"
      },
      "source": [
        "#### Linear Regression: Song Length and Word Count"
      ]
    },
    {
      "cell_type": "markdown",
      "metadata": {
        "id": "L8uDH_zqmjaX"
      },
      "source": [
        "A question we might want to ask is if Song Length is a good predictor of Word Count. In our question, we have two continuous variables: Song Length is the independent variable and Word Count is the dependent variable. Our Null Hypothesis is that there is no relationship and our Alternative Hypothesis is that there is.\n",
        "\n",
        "Continuous variables are preferred for linear regression, but it is always helpful to look at a scatterplot of two variables to decide which model might work best to discern the relationship.\n",
        "\n",
        "We can first check out a scatterplot to visualize the correlation using **Matplotlib**."
      ]
    },
    {
      "cell_type": "code",
      "metadata": {
        "id": "LDVT2iPOmXiL",
        "colab": {
          "base_uri": "https://localhost:8080/",
          "height": 278
        },
        "outputId": "5bdf6658-21dc-49fc-a10a-2b2e149e28a9"
      },
      "source": [
        "# create a scatterplot for two continuous variables\n",
        "import matplotlib.pyplot as plt\n",
        "plt.scatter(x=taylor['Song_Length'], y=taylor['Word_Count'])\n",
        "plt.xlabel(\"Song Length\")\n",
        "plt.ylabel('Word Count')\n",
        "plt.show()"
      ],
      "execution_count": null,
      "outputs": [
        {
          "output_type": "display_data",
          "data": {
            "image/png": "[encoded data removed]",
            "text/plain": [
              "<Figure size 432x288 with 1 Axes>"
            ]
          },
          "metadata": {
            "needs_background": "light"
          }
        }
      ]
    },
    {
      "cell_type": "markdown",
      "metadata": {
        "id": "21iitzL1wl3Z"
      },
      "source": [
        "There are three things we need to interpret from this scatterplot: \n",
        "*   **Magnitude:** Weak, Moderate, or Strong?\n",
        "\n",
        "*  **Linearity** Linear, Non-linear, or No relationship?\n",
        "\n",
        "*   **Direction:** Positive, Negative, or No slope?\n",
        "\n",
        "As long as no non-linear relationship is detected, we can perform a correlation."
      ]
    },
    {
      "cell_type": "code",
      "metadata": {
        "id": "MkFW7zcLtxv7",
        "colab": {
          "base_uri": "https://localhost:8080/"
        },
        "outputId": "945e6ddd-5bf3-48c0-aca4-1380ab2e33da"
      },
      "source": [
        "# correlate the continuous variables for 'Song Length' and 'Word Count'\n",
        "from scipy import stats\n",
        "x = taylor['Song_Length']\n",
        "y = taylor['Word_Count']\n",
        "stats.pearsonr(x,y)"
      ],
      "execution_count": null,
      "outputs": [
        {
          "output_type": "execute_result",
          "data": {
            "text/plain": [
              "(0.0839797545972001, 0.3402527428430016)"
            ]
          },
          "metadata": {},
          "execution_count": 14
        }
      ]
    },
    {
      "cell_type": "markdown",
      "metadata": {
        "id": "1IEYN-idxgkI"
      },
      "source": [
        "The first value output is our Correlation Coefficient. This numbeer ranges from -1 to +1, with no correlation as the number tends to zero. The second value is the p-value. Our correlation coefficient is very close to zero so we can say that any relationship between these two variables is positive and very weak. **Let's check this with a linear regression.**"
      ]
    },
    {
      "cell_type": "markdown",
      "metadata": {
        "id": "8sHp-O4UaBTw"
      },
      "source": [
        "For linear regressions, we are constructing a model to see if song length has an effect on word count of a song. Therefore, word count is our outcome variable (y) and song length is our predictor variable (x). \n",
        "\n",
        "The a linear model follows a simple slope intercept form: \n",
        "\n",
        "y = mx + b \n",
        "\n",
        "OR in statistical notation \n",
        "\n",
        "y = βx + α \n",
        "\n",
        "\n",
        "*   y: word count \n",
        "*  β: effect of song length on word count (correlation coefficient)\n",
        "\n",
        "* x: song length \n",
        "*  α: intercept (the word count when the song length is zero) \n"
      ]
    },
    {
      "cell_type": "code",
      "metadata": {
        "id": "_fLyW_xkPo5q",
        "colab": {
          "base_uri": "https://localhost:8080/",
          "height": 353
        },
        "outputId": "68383098-2ab9-4f73-f56d-c4d2c2fdb877"
      },
      "source": [
        "# add the constant to the x variable you previously defined\n",
        "X = sm.add_constant(x)\n",
        "Y = y\n",
        "\n",
        "# define the content of the model\n",
        "mod = sm.OLS(Y,X)\n",
        "\n",
        "# store the results of your fitted model\n",
        "res = mod.fit()\n",
        "\n",
        "#create a histogram of the residuals to confirm assumption of normality\n",
        "plt.hist(res.resid)"
      ],
      "execution_count": null,
      "outputs": [
        {
          "output_type": "execute_result",
          "data": {
            "text/plain": [
              "(array([ 3., 19., 26., 36., 27., 10.,  6.,  1.,  2.,  1.]),\n",
              " array([-202.40077353, -146.39835726,  -90.39594099,  -34.39352472,\n",
              "          21.60889155,   77.61130782,  133.61372409,  189.61614036,\n",
              "         245.61855663,  301.62097291,  357.62338918]),\n",
              " <a list of 10 Patch objects>)"
            ]
          },
          "metadata": {},
          "execution_count": 15
        },
        {
          "output_type": "display_data",
          "data": {
            "image/png": "[encoded data removed]",
            "text/plain": [
              "<Figure size 432x288 with 1 Axes>"
            ]
          },
          "metadata": {
            "needs_background": "light"
          }
        }
      ]
    },
    {
      "cell_type": "code",
      "metadata": {
        "colab": {
          "base_uri": "https://localhost:8080/"
        },
        "id": "vZ5GNWFeRGvY",
        "outputId": "e4ec7340-788b-426a-f0c8-ff86b77214f3"
      },
      "source": [
        "# summary elements of the res variable\n",
        "print(res.summary())"
      ],
      "execution_count": null,
      "outputs": [
        {
          "output_type": "stream",
          "name": "stdout",
          "text": [
            "                            OLS Regression Results                            \n",
            "==============================================================================\n",
            "Dep. Variable:             Word_Count   R-squared:                       0.007\n",
            "Model:                            OLS   Adj. R-squared:                 -0.001\n",
            "Method:                 Least Squares   F-statistic:                    0.9162\n",
            "Date:                Tue, 16 Nov 2021   Prob (F-statistic):              0.340\n",
            "Time:                        17:31:38   Log-Likelihood:                -779.36\n",
            "No. Observations:                 131   AIC:                             1563.\n",
            "Df Residuals:                     129   BIC:                             1568.\n",
            "Df Model:                           1                                         \n",
            "Covariance Type:            nonrobust                                         \n",
            "===============================================================================\n",
            "                  coef    std err          t      P>|t|      [0.025      0.975]\n",
            "-------------------------------------------------------------------------------\n",
            "const         319.9254     48.909      6.541      0.000     223.157     416.694\n",
            "Song_Length     0.1954      0.204      0.957      0.340      -0.209       0.599\n",
            "==============================================================================\n",
            "Omnibus:                       17.241   Durbin-Watson:                   1.328\n",
            "Prob(Omnibus):                  0.000   Jarque-Bera (JB):               22.795\n",
            "Skew:                           0.732   Prob(JB):                     1.12e-05\n",
            "Kurtosis:                       4.425   Cond. No.                     1.43e+03\n",
            "==============================================================================\n",
            "\n",
            "Warnings:\n",
            "[1] Standard Errors assume that the covariance matrix of the errors is correctly specified.\n",
            "[2] The condition number is large, 1.43e+03. This might indicate that there are\n",
            "strong multicollinearity or other numerical problems.\n"
          ]
        }
      ]
    },
    {
      "cell_type": "markdown",
      "metadata": {
        "id": "t0oAKbCacqaK"
      },
      "source": [
        "The R-squared value measures the proportion of variance in the dependent variable that can be explained by the independent variable. Our R-squared value for this regression is 0.007.\n",
        "\n",
        "As we saw in our correlation analysis above, our linear regression confirms that song length does not have a significant effect on word count given that the p-value is 0.340. If this value was less than 0.05 and we rejected our null hypothesis then our OLS regression would tell us that for every one second increase in song length there is 0.195 increase in words of a song. "
      ]
    },
    {
      "cell_type": "code",
      "metadata": {
        "colab": {
          "base_uri": "https://localhost:8080/",
          "height": 282
        },
        "id": "RGRy4ngtcrKF",
        "outputId": "50780ef9-9df1-4a33-eecb-afb067f42981"
      },
      "source": [
        "#create basic scatterplot\n",
        "plt.plot(x, y, 'o')\n",
        "\n",
        "#obtain m (slope) and b(intercept) of linear regression line\n",
        "m, b = np.polyfit(x, y, 1)\n",
        "\n",
        "#add linear regression line to scatterplot \n",
        "plt.plot(x, m*x+b)\n"
      ],
      "execution_count": null,
      "outputs": [
        {
          "output_type": "execute_result",
          "data": {
            "text/plain": [
              "[<matplotlib.lines.Line2D at 0x7fa0644aa950>]"
            ]
          },
          "metadata": {},
          "execution_count": 17
        },
        {
          "output_type": "display_data",
          "data": {
            "image/png": "[encoded data removed]",
            "text/plain": [
              "<Figure size 432x288 with 1 Axes>"
            ]
          },
          "metadata": {
            "needs_background": "light"
          }
        }
      ]
    },
    {
      "cell_type": "markdown",
      "metadata": {
        "id": "5-ltKklgSX4F"
      },
      "source": [
        "As we saw from our p-value, we can also see visually that this model is not a good fit for our data. "
      ]
    },
    {
      "cell_type": "markdown",
      "metadata": {
        "id": "XXT1qnXXScLQ"
      },
      "source": [
        "#### Logistic Regression: Single and Word Count"
      ]
    },
    {
      "cell_type": "markdown",
      "metadata": {
        "id": "N2MaTtHASlrm"
      },
      "source": [
        "Now, if we were to look at the effect that Word Count has on whether or not the song was first released as a single, we might need a different model. Let's look at what the data looks like! \n",
        "\n",
        "\n",
        "\n",
        "\n",
        "\n"
      ]
    },
    {
      "cell_type": "code",
      "metadata": {
        "colab": {
          "base_uri": "https://localhost:8080/",
          "height": 280
        },
        "id": "fhZ8TAk_p6r-",
        "outputId": "a806fe63-626d-4dc6-b40c-f84546dd488c"
      },
      "source": [
        "plt.scatter(x=taylor['Word_Count'], y=taylor['Single'])\n",
        "plt.xlabel(\"Word_Count\")\n",
        "plt.ylabel('Single')\n",
        "plt.show()"
      ],
      "execution_count": null,
      "outputs": [
        {
          "output_type": "display_data",
          "data": {
            "image/png": "[encoded data removed]",
            "text/plain": [
              "<Figure size 432x288 with 1 Axes>"
            ]
          },
          "metadata": {
            "needs_background": "light"
          }
        }
      ]
    },
    {
      "cell_type": "markdown",
      "metadata": {
        "id": "h4HToFZhS7YZ"
      },
      "source": [
        "Clearly, this is not is not a linear relationship. Let's try a different kind of model! Logistic regressions are best used for binary response variables because of the shape of the line using **statsmodels**."
      ]
    },
    {
      "cell_type": "markdown",
      "metadata": {
        "id": "-7KwTaHCtSPn"
      },
      "source": [
        "Before we fit the model, we need to clean the data! We can't run a regression based off of \"yes\" and \"no,\" so we need to create a new column of dummy variables where \"yes\" is 1 and \"no\" is 0. "
      ]
    },
    {
      "cell_type": "code",
      "metadata": {
        "id": "Ifh3z_DOq_RI"
      },
      "source": [
        "#a function that creates a binary dummy variable based on the yes and no \n",
        "def clean(row):\n",
        "    if row['Single'] == \"Yes\":\n",
        "        val = 1\n",
        "    elif row['Single'] == \"No\":\n",
        "        val = 0\n",
        "    else:\n",
        "        val = -1\n",
        "    return val\n",
        "\n",
        "#adds a new row \n",
        "taylor[\"Single_Binary\"] = taylor.apply(clean, axis=1)\n"
      ],
      "execution_count": null,
      "outputs": []
    },
    {
      "cell_type": "markdown",
      "metadata": {
        "id": "zBf-heZ95KVW"
      },
      "source": [
        "Now we can use statsmodels to input our variables and fit the model."
      ]
    },
    {
      "cell_type": "code",
      "metadata": {
        "id": "os6GFDIv65DJ"
      },
      "source": [
        "#import the statsmodels.formula.api library and save it as smf\n",
        "import statsmodels.formula.api as smf"
      ],
      "execution_count": null,
      "outputs": []
    },
    {
      "cell_type": "code",
      "metadata": {
        "colab": {
          "base_uri": "https://localhost:8080/"
        },
        "id": "dzt7-EtN7PIJ",
        "outputId": "a4ab098f-3949-4e3b-9a0c-d2720d3cfb47"
      },
      "source": [
        "# run the model (`Single_binary` = `Word_Count')\n",
        "model_1 = smf.logit(formula='Single_Binary ~ Word_Count', data=taylor)\n",
        "res_1 = model_1.fit()"
      ],
      "execution_count": null,
      "outputs": [
        {
          "output_type": "stream",
          "name": "stdout",
          "text": [
            "Optimization terminated successfully.\n",
            "         Current function value: 0.607092\n",
            "         Iterations 5\n"
          ]
        }
      ]
    },
    {
      "cell_type": "code",
      "metadata": {
        "colab": {
          "base_uri": "https://localhost:8080/"
        },
        "id": "tkL93F-V7ZHL",
        "outputId": "ae67c659-2822-4a09-b038-6fdd3a00c02e"
      },
      "source": [
        "#return the .summary information\n",
        "print(res_1.summary())"
      ],
      "execution_count": null,
      "outputs": [
        {
          "output_type": "stream",
          "name": "stdout",
          "text": [
            "                           Logit Regression Results                           \n",
            "==============================================================================\n",
            "Dep. Variable:          Single_Binary   No. Observations:                  131\n",
            "Model:                          Logit   Df Residuals:                      129\n",
            "Method:                           MLE   Df Model:                            1\n",
            "Date:                Tue, 16 Nov 2021   Pseudo R-squ.:                 0.06335\n",
            "Time:                        17:31:38   Log-Likelihood:                -79.529\n",
            "converged:                       True   LL-Null:                       -84.908\n",
            "Covariance Type:            nonrobust   LLR p-value:                  0.001038\n",
            "==============================================================================\n",
            "                 coef    std err          z      P>|z|      [0.025      0.975]\n",
            "------------------------------------------------------------------------------\n",
            "Intercept     -3.1478      0.860     -3.662      0.000      -4.832      -1.463\n",
            "Word_Count     0.0068      0.002      3.059      0.002       0.002       0.011\n",
            "==============================================================================\n"
          ]
        }
      ]
    },
    {
      "cell_type": "markdown",
      "metadata": {
        "id": "5Dt2zw4l8PaS"
      },
      "source": [
        "Based on the results, we can see that the word count does have a significant effect on whether or not the song is a single. If you find the odds ratio from the coefficient, that with every one word increase in the word count the 0.68% more likely to be a single. \n",
        "\n",
        "Running the logistic regression again but this time looking at if Word Count with Track Number has an affect on whether a song is first released as a single."
      ]
    },
    {
      "cell_type": "markdown",
      "metadata": {
        "id": "e8oOk4ns9huk"
      },
      "source": [
        "#### Logistic Regression: Single and Track Number with Word Count"
      ]
    },
    {
      "cell_type": "markdown",
      "metadata": {
        "id": "k0ImP_P-nE1o"
      },
      "source": [
        "This model demonstrates that you can multiple predictors for your logistic regression. These predictors can be various types of variables including categorical and continious as demonstrated in this model. "
      ]
    },
    {
      "cell_type": "code",
      "metadata": {
        "colab": {
          "base_uri": "https://localhost:8080/",
          "height": 141
        },
        "id": "pErIHg8tADyp",
        "outputId": "48cb9160-e242-4e92-a001-6411e6bc8d90"
      },
      "source": [
        "# Crosstab of comparing track numbers and if they were chosen as singles. this is out of 9 albums\n",
        "pd.crosstab(taylor['Single_Binary'], taylor['Track_Number'])"
      ],
      "execution_count": null,
      "outputs": [
        {
          "output_type": "execute_result",
          "data": {
            "text/html": [
              "<div>\n",
              "<style scoped>\n",
              "    .dataframe tbody tr th:only-of-type {\n",
              "        vertical-align: middle;\n",
              "    }\n",
              "\n",
              "    .dataframe tbody tr th {\n",
              "        vertical-align: top;\n",
              "    }\n",
              "\n",
              "    .dataframe thead th {\n",
              "        text-align: right;\n",
              "    }\n",
              "</style>\n",
              "<table border=\"1\" class=\"dataframe\">\n",
              "  <thead>\n",
              "    <tr style=\"text-align: right;\">\n",
              "      <th>Track_Number</th>\n",
              "      <th>1</th>\n",
              "      <th>2</th>\n",
              "      <th>3</th>\n",
              "      <th>4</th>\n",
              "      <th>5</th>\n",
              "      <th>6</th>\n",
              "      <th>7</th>\n",
              "      <th>8</th>\n",
              "      <th>9</th>\n",
              "      <th>10</th>\n",
              "      <th>11</th>\n",
              "      <th>12</th>\n",
              "      <th>13</th>\n",
              "      <th>14</th>\n",
              "      <th>15</th>\n",
              "      <th>16</th>\n",
              "      <th>17</th>\n",
              "      <th>18</th>\n",
              "    </tr>\n",
              "    <tr>\n",
              "      <th>Single_Binary</th>\n",
              "      <th></th>\n",
              "      <th></th>\n",
              "      <th></th>\n",
              "      <th></th>\n",
              "      <th></th>\n",
              "      <th></th>\n",
              "      <th></th>\n",
              "      <th></th>\n",
              "      <th></th>\n",
              "      <th></th>\n",
              "      <th></th>\n",
              "      <th></th>\n",
              "      <th></th>\n",
              "      <th></th>\n",
              "      <th></th>\n",
              "      <th></th>\n",
              "      <th></th>\n",
              "      <th></th>\n",
              "    </tr>\n",
              "  </thead>\n",
              "  <tbody>\n",
              "    <tr>\n",
              "      <th>0</th>\n",
              "      <td>3</td>\n",
              "      <td>2</td>\n",
              "      <td>4</td>\n",
              "      <td>5</td>\n",
              "      <td>7</td>\n",
              "      <td>3</td>\n",
              "      <td>8</td>\n",
              "      <td>7</td>\n",
              "      <td>5</td>\n",
              "      <td>8</td>\n",
              "      <td>8</td>\n",
              "      <td>8</td>\n",
              "      <td>8</td>\n",
              "      <td>3</td>\n",
              "      <td>3</td>\n",
              "      <td>1</td>\n",
              "      <td>1</td>\n",
              "      <td>1</td>\n",
              "    </tr>\n",
              "    <tr>\n",
              "      <th>1</th>\n",
              "      <td>6</td>\n",
              "      <td>7</td>\n",
              "      <td>5</td>\n",
              "      <td>4</td>\n",
              "      <td>2</td>\n",
              "      <td>6</td>\n",
              "      <td>1</td>\n",
              "      <td>2</td>\n",
              "      <td>4</td>\n",
              "      <td>1</td>\n",
              "      <td>1</td>\n",
              "      <td>0</td>\n",
              "      <td>0</td>\n",
              "      <td>3</td>\n",
              "      <td>2</td>\n",
              "      <td>2</td>\n",
              "      <td>0</td>\n",
              "      <td>0</td>\n",
              "    </tr>\n",
              "  </tbody>\n",
              "</table>\n",
              "</div>"
            ],
            "text/plain": [
              "Track_Number   1   2   3   4   5   6   7   8   ...  11  12  13  14  15  16  17  18\n",
              "Single_Binary                                  ...                                \n",
              "0               3   2   4   5   7   3   8   7  ...   8   8   8   3   3   1   1   1\n",
              "1               6   7   5   4   2   6   1   2  ...   1   0   0   3   2   2   0   0\n",
              "\n",
              "[2 rows x 18 columns]"
            ]
          },
          "metadata": {},
          "execution_count": 23
        }
      ]
    },
    {
      "cell_type": "markdown",
      "metadata": {
        "id": "f9AJ2wt6AP-O"
      },
      "source": [
        "To get a meaningful result from our logistic regression, we need to make sure that all of our albums have the same number of tracks. We will need to cut our original dataframe down to include 11 tracks for each album."
      ]
    },
    {
      "cell_type": "code",
      "metadata": {
        "id": "wl7SVFLaAfWV"
      },
      "source": [
        "# creating new dataframe for only tracks 1-11 for each album\n",
        "taylor_new = taylor[taylor['Track_Number'] == 1]\n",
        "taylor_new = taylor_new.append(taylor[taylor['Track_Number'] == 2])\n",
        "taylor_new = taylor_new.append(taylor[taylor['Track_Number'] == 3])\n",
        "taylor_new = taylor_new.append(taylor[taylor['Track_Number'] == 4])\n",
        "taylor_new = taylor_new.append(taylor[taylor['Track_Number'] == 5])\n",
        "taylor_new = taylor_new.append(taylor[taylor['Track_Number'] == 6])\n",
        "taylor_new = taylor_new.append(taylor[taylor['Track_Number'] == 7])\n",
        "taylor_new = taylor_new.append(taylor[taylor['Track_Number'] == 8])\n",
        "taylor_new = taylor_new.append(taylor[taylor['Track_Number'] == 9])\n",
        "taylor_new = taylor_new.append(taylor[taylor['Track_Number'] == 10])\n",
        "taylor_new = taylor_new.append(taylor[taylor['Track_Number'] == 11])"
      ],
      "execution_count": null,
      "outputs": []
    },
    {
      "cell_type": "code",
      "metadata": {
        "colab": {
          "base_uri": "https://localhost:8080/"
        },
        "id": "3P58Wxsy8MYg",
        "outputId": "c8e1fb9f-c5fa-43a5-de97-eefcde914875"
      },
      "source": [
        "# run the model (`Single_binary` = `Word_Count + C(Track_Number'))\n",
        "model_2 = smf.logit(formula='Single_Binary ~ Word_Count + C(Track_Number)', data=taylor_new)\n",
        "res_2 = model_2.fit()"
      ],
      "execution_count": null,
      "outputs": [
        {
          "output_type": "stream",
          "name": "stdout",
          "text": [
            "Optimization terminated successfully.\n",
            "         Current function value: 0.492934\n",
            "         Iterations 7\n"
          ]
        }
      ]
    },
    {
      "cell_type": "code",
      "metadata": {
        "colab": {
          "base_uri": "https://localhost:8080/"
        },
        "id": "YK2lCY6X95en",
        "outputId": "7f0413a7-374c-4eff-cfd3-857721d7ae9d"
      },
      "source": [
        "#return the .summary information\n",
        "print(res_2.summary()) "
      ],
      "execution_count": null,
      "outputs": [
        {
          "output_type": "stream",
          "name": "stdout",
          "text": [
            "                           Logit Regression Results                           \n",
            "==============================================================================\n",
            "Dep. Variable:          Single_Binary   No. Observations:                   99\n",
            "Model:                          Logit   Df Residuals:                       87\n",
            "Method:                           MLE   Df Model:                           11\n",
            "Date:                Tue, 16 Nov 2021   Pseudo R-squ.:                  0.2648\n",
            "Time:                        17:31:38   Log-Likelihood:                -48.800\n",
            "converged:                       True   LL-Null:                       -66.377\n",
            "Covariance Type:            nonrobust   LLR p-value:                 0.0002338\n",
            "=========================================================================================\n",
            "                            coef    std err          z      P>|z|      [0.025      0.975]\n",
            "-----------------------------------------------------------------------------------------\n",
            "Intercept                -2.4864      1.332     -1.867      0.062      -5.097       0.124\n",
            "C(Track_Number)[T.2]      0.4059      1.107      0.367      0.714      -1.764       2.576\n",
            "C(Track_Number)[T.3]     -0.4779      1.005     -0.475      0.634      -2.448       1.492\n",
            "C(Track_Number)[T.4]     -1.6149      1.066     -1.515      0.130      -3.705       0.475\n",
            "C(Track_Number)[T.5]     -2.2589      1.129     -2.001      0.045      -4.471      -0.047\n",
            "C(Track_Number)[T.6]     -0.2983      1.056     -0.282      0.778      -2.369       1.772\n",
            "C(Track_Number)[T.7]     -3.9517      1.576     -2.508      0.012      -7.040      -0.863\n",
            "C(Track_Number)[T.8]     -2.4738      1.136     -2.179      0.029      -4.699      -0.248\n",
            "C(Track_Number)[T.9]     -1.0842      1.016     -1.067      0.286      -3.075       0.907\n",
            "C(Track_Number)[T.10]    -3.3596      1.331     -2.523      0.012      -5.969      -0.750\n",
            "C(Track_Number)[T.11]    -2.9632      1.300     -2.280      0.023      -5.511      -0.416\n",
            "Word_Count                0.0093      0.003      2.809      0.005       0.003       0.016\n",
            "=========================================================================================\n"
          ]
        }
      ]
    },
    {
      "cell_type": "markdown",
      "metadata": {
        "id": "esEFsybmnVjq"
      },
      "source": [
        "From this model, we can see that being track 5, 7, 10, and 11 all have a significant effect on whether or not the song was released as a single. \n",
        "\n",
        "Odds ratio = 100 * e^b\n",
        "\n",
        "If you find the odds ratio for each of these, you will find that... \n",
        "\n",
        "\n",
        "* Track 5 decreases the likelihood of the track being a single by 90% \n",
        "* Track 7 decreases the likelihood of the track being a single by 98% \n",
        "* Track 10 decreases the likelihood of the track being a single by 97%\n",
        "* Track 11 decreases the likelihood of the track being a single by 95%\n",
        "\n",
        "\n",
        "\n"
      ]
    },
    {
      "cell_type": "markdown",
      "metadata": {
        "id": "y8RSHfwspdgv"
      },
      "source": [
        "### Next Steps: "
      ]
    },
    {
      "cell_type": "markdown",
      "metadata": {
        "id": "FkHacxNKpACe"
      },
      "source": [
        "Given these interpretations of the models, the next step in your statistical analysis would be assess the fit of the model. This can be done a number of ways including R-squared values, chi-squared values, AIC and BIC scores, and likelihood ratio test. "
      ]
    },
    {
      "cell_type": "markdown",
      "metadata": {
        "id": "NDT5InC_poFq"
      },
      "source": [
        "### In Conclusion: "
      ]
    },
    {
      "cell_type": "markdown",
      "metadata": {
        "id": "EEZfdxjHpuEz"
      },
      "source": [
        "There are so many different ways to construct different types of models. A great rule of thumb when it comes to constructing models is to first look at the data and see how it's represented. For example, binary response data creates a unit clustering that yeilds itself well to logistic regressions. Constructing models is all about knowing that the numbers are more than just numbers.\n"
      ]
    },
    {
      "cell_type": "markdown",
      "metadata": {
        "id": "JdcRH4E22oj0"
      },
      "source": [
        "**Steps to take before choosing a model:**\n",
        "\n",
        "*   Look at your data and identify variable types\n",
        "\n",
        "*   Perform descriptive statistics to check numerical representations\n",
        "\n",
        "*   Visualize your data using plots/figures\n",
        "\n",
        "*   Using the info from the steps above, try out a model!"
      ]
    },
    {
      "cell_type": "markdown",
      "metadata": {
        "id": "pj8P_X473Nff"
      },
      "source": [
        "In this demonstration, we performed **linear regression** on two categorical variables and **logistic regression** with bivariate, continuous, and categorical data."
      ]
    }
  ]
}